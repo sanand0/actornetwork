{
  "cells": [
    {
      "cell_type": "markdown",
      "metadata": {
        "id": "agnfqs5FnoK9"
      },
      "source": [
        "# Shortest path between actors\n",
        "\n",
        "What's the shortest path between two actors, via films they've acted together?"
      ]
    },
    {
      "cell_type": "markdown",
      "metadata": {
        "id": "Prb22Wnx9rfu"
      },
      "source": [
        "# Download IMDb Data\n",
        "\n",
        "[IMDb Datasets](https://www.imdb.com/interfaces/) provide dumps of all movie data. We'll download 3 tables:\n",
        "\n",
        "## name.basics.tsv.gz\n",
        "\n",
        "**nconst**|**primaryName**|**birthYear**|**deathYear**|**primaryProfession**|**knownForTitles**\n",
        ":-----:|:-----:|:-----:|:-----:|:-----:|:-----:\n",
        "nm0000001|Fred Astaire|1899|1987|soundtrack,actor,miscellaneous|tt0031983,tt0072308,tt0053137,tt0050419\n",
        "nm0000002|Lauren Bacall|1924|2014|actress,soundtrack|tt0071877,tt0037382,tt0038355,tt0117057\n",
        "nm0000003|Brigitte Bardot|1934|\\N|actress,soundtrack,music\\_department|tt0054452,tt0049189,tt0056404,tt0057345\n",
        "nm0000004|John Belushi|1949|1982|actor,soundtrack,writer|tt0080455,tt0078723,tt0072562,tt0077975\n",
        "nm0000005|Ingmar Bergman|1918|2007|writer,director,actor|tt0050976,tt0050986,tt0060827,tt0083922\n",
        "\n",
        "## title.basics.tsv.gz\n",
        "\n",
        "**tconst**|**titleType**|**primaryTitle**|**originalTitle**|**isAdult**|**startYear**|**endYear**|**runtimeMinutes**|**genres**\n",
        ":-----:|:-----:|:-----:|:-----:|:-----:|:-----:|:-----:|:-----:|:-----:\n",
        "tt0000001|short|Carmencita|Carmencita|0|1894|\\N|1|Documentary,Short\n",
        "tt0000002|short|Le clown et ses chiens|Le clown et ses chiens|0|1892|\\N|5|Animation,Short\n",
        "tt0000003|short|Pauvre Pierrot|Pauvre Pierrot|0|1892|\\N|4|Animation,Comedy,Romance\n",
        "tt0000004|short|Un bon bock|Un bon bock|0|1892|\\N|12|Animation,Short\n",
        "tt0000005|short|Blacksmith Scene|Blacksmith Scene|0|1893|\\N|1|Comedy,Short\n",
        "\n",
        "## title.principals.tsv.gz\n",
        "\n",
        "**tconst**|**ordering**|**nconst**|**category**|**job**|**characters**\n",
        ":-----:|:-----:|:-----:|:-----:|:-----:|:-----:\n",
        "tt0000001|1|nm1588970|self|\\N|[\"Self\"]\n",
        "tt0000001|2|nm0005690|director|\\N|\\N\n",
        "tt0000001|3|nm0374658|cinematographer|director of photography|\\N\n",
        "tt0000002|1|nm0721526|director|\\N|\\N\n",
        "tt0000002|2|nm1335271|composer|\\N|\\N"
      ]
    },
    {
      "cell_type": "code",
      "execution_count": 1,
      "metadata": {
        "colab": {
          "base_uri": "https://localhost:8080/"
        },
        "id": "QduW6UCcnjqw",
        "outputId": "3ff271bf-9039-4f31-9d43-6599a4be53e9"
      },
      "outputs": [
        {
          "name": "stdout",
          "output_type": "stream",
          "text": [
            "-rwxrwxr-x+ 1 Anand S Anand S 229771318 Jul  1 08:32 name.basics.tsv.gz\n",
            "-rwxrwxr-x+ 1 Anand S Anand S 157916340 Jul  1 08:32 title.basics.tsv.gz\n",
            "-rwxrwxr-x+ 1 Anand S Anand S 402948527 Jul  1 08:32 title.principals.tsv.gz\n"
          ]
        }
      ],
      "source": [
        "# Download the data\n",
        "# !rm -f *.tsv.gz\n",
        "!curl --silent -C - -o name.basics.tsv.gz https://datasets.imdbws.com/name.basics.tsv.gz\n",
        "!curl --silent -C - -o title.principals.tsv.gz https://datasets.imdbws.com/title.principals.tsv.gz\n",
        "!curl --silent -C - -o title.basics.tsv.gz https://datasets.imdbws.com/title.basics.tsv.gz\n",
        "!ls -la *.tsv.gz"
      ]
    },
    {
      "cell_type": "code",
      "execution_count": 2,
      "metadata": {
        "id": "5asLli48nr3L"
      },
      "outputs": [],
      "source": [
        "# These gzip files have trailing garbage.\n",
        "# Python's gzip module does not read GZIP files with trailing garbage.\n",
        "# Let's create an equivalent of pandas.read_csv() that works around it.\n",
        "# See https://stackoverflow.com/a/54608126/100904\n",
        "import zlib\n",
        "import io\n",
        "import pandas as pd\n",
        "\n",
        "def read_csv(path, **kwargs):\n",
        "    with open(path, 'rb') as handle:\n",
        "        raw = handle.read()\n",
        "    stream = io.BytesIO(zlib.decompress(raw, zlib.MAX_WBITS|16))\n",
        "    return pd.read_csv(stream, **kwargs)"
      ]
    },
    {
      "cell_type": "code",
      "execution_count": 3,
      "metadata": {
        "id": "rgiUdZTpn9Ib"
      },
      "outputs": [],
      "source": [
        "# Load the movies. This needs ~1.4GB RAM, 15s\n",
        "movies = read_csv('title.basics.tsv.gz', sep='\\t', na_values='\\\\N', dtype={\n",
        "    'tconst': 'str',\n",
        "    'titleType': 'str',\n",
        "    'primaryTitle': 'str',\n",
        "    'startYear': 'Int64',\n",
        "}, usecols=['tconst', 'titleType', 'primaryTitle', 'startYear']).set_index('tconst')"
      ]
    },
    {
      "cell_type": "code",
      "execution_count": 4,
      "metadata": {
        "colab": {
          "base_uri": "https://localhost:8080/",
          "height": 238
        },
        "id": "f2jj9F3In_PL",
        "outputId": "680721b6-a1f2-4baf-95bb-63444d433bb4"
      },
      "outputs": [
        {
          "data": {
            "text/html": [
              "<div>\n",
              "<style scoped>\n",
              "    .dataframe tbody tr th:only-of-type {\n",
              "        vertical-align: middle;\n",
              "    }\n",
              "\n",
              "    .dataframe tbody tr th {\n",
              "        vertical-align: top;\n",
              "    }\n",
              "\n",
              "    .dataframe thead th {\n",
              "        text-align: right;\n",
              "    }\n",
              "</style>\n",
              "<table border=\"1\" class=\"dataframe\">\n",
              "  <thead>\n",
              "    <tr style=\"text-align: right;\">\n",
              "      <th></th>\n",
              "      <th>primaryTitle</th>\n",
              "      <th>startYear</th>\n",
              "    </tr>\n",
              "    <tr>\n",
              "      <th>tconst</th>\n",
              "      <th></th>\n",
              "      <th></th>\n",
              "    </tr>\n",
              "  </thead>\n",
              "  <tbody>\n",
              "    <tr>\n",
              "      <th>tt0000502</th>\n",
              "      <td>Bohemios</td>\n",
              "      <td>1905</td>\n",
              "    </tr>\n",
              "    <tr>\n",
              "      <th>tt0000574</th>\n",
              "      <td>The Story of the Kelly Gang</td>\n",
              "      <td>1906</td>\n",
              "    </tr>\n",
              "    <tr>\n",
              "      <th>tt0000591</th>\n",
              "      <td>The Prodigal Son</td>\n",
              "      <td>1907</td>\n",
              "    </tr>\n",
              "    <tr>\n",
              "      <th>tt0000615</th>\n",
              "      <td>Robbery Under Arms</td>\n",
              "      <td>1907</td>\n",
              "    </tr>\n",
              "    <tr>\n",
              "      <th>tt0000630</th>\n",
              "      <td>Hamlet</td>\n",
              "      <td>1908</td>\n",
              "    </tr>\n",
              "  </tbody>\n",
              "</table>\n",
              "</div>"
            ],
            "text/plain": [
              "                          primaryTitle  startYear\n",
              "tconst                                           \n",
              "tt0000502                     Bohemios       1905\n",
              "tt0000574  The Story of the Kelly Gang       1906\n",
              "tt0000591             The Prodigal Son       1907\n",
              "tt0000615           Robbery Under Arms       1907\n",
              "tt0000630                       Hamlet       1908"
            ]
          },
          "execution_count": 4,
          "metadata": {},
          "output_type": "execute_result"
        }
      ],
      "source": [
        "# Only consider movies, not TV series, etc. Shrinks data to ~5%\n",
        "movies = movies[movies['titleType'] == 'movie']\n",
        "del movies['titleType']\n",
        "movies.head()"
      ]
    },
    {
      "cell_type": "code",
      "execution_count": 6,
      "metadata": {
        "id": "oADl2-Z2oDXm"
      },
      "outputs": [],
      "source": [
        "# Load the cast of each film. 2.0 GB RAM. 30s\n",
        "cast = read_csv('title.principals.tsv.gz', sep='\\t', na_values='\\\\N', dtype={\n",
        "    'tconst': 'str',\n",
        "    'nconst': 'str',\n",
        "    'category': 'str',\n",
        "}, usecols=['tconst', 'nconst', 'category'])"
      ]
    },
    {
      "cell_type": "code",
      "execution_count": 7,
      "metadata": {
        "colab": {
          "base_uri": "https://localhost:8080/",
          "height": 206
        },
        "id": "WnNXO7UBoEx_",
        "outputId": "070da1ed-feda-47be-9aec-2530cb4498bd"
      },
      "outputs": [
        {
          "data": {
            "text/html": [
              "<div>\n",
              "<style scoped>\n",
              "    .dataframe tbody tr th:only-of-type {\n",
              "        vertical-align: middle;\n",
              "    }\n",
              "\n",
              "    .dataframe tbody tr th {\n",
              "        vertical-align: top;\n",
              "    }\n",
              "\n",
              "    .dataframe thead th {\n",
              "        text-align: right;\n",
              "    }\n",
              "</style>\n",
              "<table border=\"1\" class=\"dataframe\">\n",
              "  <thead>\n",
              "    <tr style=\"text-align: right;\">\n",
              "      <th></th>\n",
              "      <th>tconst</th>\n",
              "      <th>nconst</th>\n",
              "      <th>category</th>\n",
              "    </tr>\n",
              "  </thead>\n",
              "  <tbody>\n",
              "    <tr>\n",
              "      <th>0</th>\n",
              "      <td>tt0000502</td>\n",
              "      <td>nm0215752</td>\n",
              "      <td>actor</td>\n",
              "    </tr>\n",
              "    <tr>\n",
              "      <th>1</th>\n",
              "      <td>tt0000502</td>\n",
              "      <td>nm0252720</td>\n",
              "      <td>actor</td>\n",
              "    </tr>\n",
              "    <tr>\n",
              "      <th>2</th>\n",
              "      <td>tt0000574</td>\n",
              "      <td>nm0846887</td>\n",
              "      <td>actress</td>\n",
              "    </tr>\n",
              "    <tr>\n",
              "      <th>3</th>\n",
              "      <td>tt0000574</td>\n",
              "      <td>nm0846894</td>\n",
              "      <td>actor</td>\n",
              "    </tr>\n",
              "    <tr>\n",
              "      <th>4</th>\n",
              "      <td>tt0000574</td>\n",
              "      <td>nm1431224</td>\n",
              "      <td>actor</td>\n",
              "    </tr>\n",
              "  </tbody>\n",
              "</table>\n",
              "</div>"
            ],
            "text/plain": [
              "      tconst     nconst category\n",
              "0  tt0000502  nm0215752    actor\n",
              "1  tt0000502  nm0252720    actor\n",
              "2  tt0000574  nm0846887  actress\n",
              "3  tt0000574  nm0846894    actor\n",
              "4  tt0000574  nm1431224    actor"
            ]
          },
          "execution_count": 7,
          "metadata": {},
          "output_type": "execute_result"
        }
      ],
      "source": [
        "# Only consider actors, not directors, composers, etc. Shrinks data to about 40%\n",
        "# Only consider actors that have acted in movies, not TV series, etc.\n",
        "cast = cast[cast.category.isin({'actor', 'actress'}) & cast['tconst'].isin(movies.index)]\n",
        "cast.reset_index(drop=True, inplace=True)\n",
        "cast.head()"
      ]
    },
    {
      "cell_type": "code",
      "execution_count": 8,
      "metadata": {
        "id": "El35p11_oF_U"
      },
      "outputs": [],
      "source": [
        "# Load 11m names with birth year. 16s\n",
        "name = read_csv('name.basics.tsv.gz', sep='\\t', na_values='\\\\N', dtype={\n",
        "    'nconst': 'str',\n",
        "    'primaryName': 'str',\n",
        "    'birthYear': 'Int64'\n",
        "}, usecols=['nconst', 'primaryName', 'birthYear']).set_index('nconst')"
      ]
    },
    {
      "cell_type": "code",
      "execution_count": 9,
      "metadata": {
        "colab": {
          "base_uri": "https://localhost:8080/",
          "height": 238
        },
        "id": "PADeAXR7oHSO",
        "outputId": "e145248a-412b-4721-8974-577476cd19b2"
      },
      "outputs": [
        {
          "data": {
            "text/html": [
              "<div>\n",
              "<style scoped>\n",
              "    .dataframe tbody tr th:only-of-type {\n",
              "        vertical-align: middle;\n",
              "    }\n",
              "\n",
              "    .dataframe tbody tr th {\n",
              "        vertical-align: top;\n",
              "    }\n",
              "\n",
              "    .dataframe thead th {\n",
              "        text-align: right;\n",
              "    }\n",
              "</style>\n",
              "<table border=\"1\" class=\"dataframe\">\n",
              "  <thead>\n",
              "    <tr style=\"text-align: right;\">\n",
              "      <th></th>\n",
              "      <th>primaryName</th>\n",
              "      <th>birthYear</th>\n",
              "      <th>titles</th>\n",
              "    </tr>\n",
              "    <tr>\n",
              "      <th>nconst</th>\n",
              "      <th></th>\n",
              "      <th></th>\n",
              "      <th></th>\n",
              "    </tr>\n",
              "  </thead>\n",
              "  <tbody>\n",
              "    <tr>\n",
              "      <th>nm0000001</th>\n",
              "      <td>Fred Astaire</td>\n",
              "      <td>1899</td>\n",
              "      <td>35</td>\n",
              "    </tr>\n",
              "    <tr>\n",
              "      <th>nm0000002</th>\n",
              "      <td>Lauren Bacall</td>\n",
              "      <td>1924</td>\n",
              "      <td>37</td>\n",
              "    </tr>\n",
              "    <tr>\n",
              "      <th>nm0000003</th>\n",
              "      <td>Brigitte Bardot</td>\n",
              "      <td>1934</td>\n",
              "      <td>35</td>\n",
              "    </tr>\n",
              "    <tr>\n",
              "      <th>nm0000004</th>\n",
              "      <td>John Belushi</td>\n",
              "      <td>1949</td>\n",
              "      <td>7</td>\n",
              "    </tr>\n",
              "    <tr>\n",
              "      <th>nm0000005</th>\n",
              "      <td>Ingmar Bergman</td>\n",
              "      <td>1918</td>\n",
              "      <td>3</td>\n",
              "    </tr>\n",
              "  </tbody>\n",
              "</table>\n",
              "</div>"
            ],
            "text/plain": [
              "               primaryName  birthYear  titles\n",
              "nconst                                       \n",
              "nm0000001     Fred Astaire       1899      35\n",
              "nm0000002    Lauren Bacall       1924      37\n",
              "nm0000003  Brigitte Bardot       1934      35\n",
              "nm0000004     John Belushi       1949       7\n",
              "nm0000005   Ingmar Bergman       1918       3"
            ]
          },
          "execution_count": 9,
          "metadata": {},
          "output_type": "execute_result"
        }
      ],
      "source": [
        "# Drop those who haven't acted in movies\n",
        "name = name[name.index.isin(cast['nconst'])]\n",
        "# name['titles'] has the number of movies they've acted in\n",
        "name['titles'] = cast['nconst'].value_counts()\n",
        "name.head()"
      ]
    },
    {
      "cell_type": "markdown",
      "metadata": {
        "id": "yf4euc15oTtS"
      },
      "source": [
        "# Create a `networkx` graph from this"
      ]
    },
    {
      "cell_type": "code",
      "execution_count": 10,
      "metadata": {
        "id": "GHifz9AooOAe"
      },
      "outputs": [],
      "source": [
        "import networkx as nx\n",
        "G = nx.from_pandas_edgelist(cast, 'tconst', 'nconst')"
      ]
    },
    {
      "cell_type": "code",
      "execution_count": 11,
      "metadata": {
        "colab": {
          "base_uri": "https://localhost:8080/"
        },
        "id": "xxcGLE8romvG",
        "outputId": "f17b9e94-8df0-44b7-8c3d-8e11741734bc"
      },
      "outputs": [
        {
          "data": {
            "text/plain": [
              "['nm0000245', 'tt0097165', 'nm0000160', 'tt0364045', 'nm0001401']"
            ]
          },
          "execution_count": 11,
          "metadata": {},
          "output_type": "execute_result"
        }
      ],
      "source": [
        "# We can find the shortest path between 2 actors. For example, Robin Williams (nm0000245) and Angelina Jolie (nm0001401)\n",
        "nx.shortest_path(G, 'nm0000245', 'nm0001401')"
      ]
    },
    {
      "cell_type": "code",
      "execution_count": 12,
      "metadata": {
        "id": "RpUeIOVkpRTx"
      },
      "outputs": [],
      "source": [
        "# Let's write a function that converts these IDs into names\n",
        "def names(path):\n",
        "    return ' - '.join((movies['primaryTitle'][p] if p.startswith('tt') else name['primaryName'][p]) for p in path)\n",
        "\n",
        "# ... and a function that \n",
        "def path(source, target):\n",
        "    source = name[name['primaryName'] == source].index[0]\n",
        "    target = name[name['primaryName'] == target].index[0]\n",
        "    return names(nx.shortest_path(G, source, target))"
      ]
    },
    {
      "cell_type": "code",
      "execution_count": 13,
      "metadata": {
        "colab": {
          "base_uri": "https://localhost:8080/",
          "height": 35
        },
        "id": "yHTAqeczpSl3",
        "outputId": "3bfb170d-3489-466b-920a-b9324491d9a6"
      },
      "outputs": [
        {
          "data": {
            "text/plain": [
              "'Robin Williams - Dead Poets Society - Ethan Hawke - Taking Lives - Angelina Jolie'"
            ]
          },
          "execution_count": 13,
          "metadata": {},
          "output_type": "execute_result"
        }
      ],
      "source": [
        "# This is the shortest path between Robin Williams (nm0000245) and Angelina Jolie (nm0001401)\n",
        "path('Robin Williams', 'Angelina Jolie')"
      ]
    },
    {
      "cell_type": "code",
      "execution_count": 14,
      "metadata": {
        "id": "fknjNxhyqTc2"
      },
      "outputs": [],
      "source": [
        "# There many be multiple paths between them. Let's list them all\n",
        "def paths(source, target):\n",
        "    source = name[name['primaryName'] == source].index[0]\n",
        "    target = name[name['primaryName'] == target].index[0]\n",
        "    return [names(p) for p in nx.all_shortest_paths(G, source, target)]"
      ]
    },
    {
      "cell_type": "code",
      "execution_count": 15,
      "metadata": {
        "colab": {
          "base_uri": "https://localhost:8080/"
        },
        "id": "VYHsOMaIqzHn",
        "outputId": "1b81e548-631a-4045-b3b5-1d4db27e21de"
      },
      "outputs": [
        {
          "data": {
            "text/plain": [
              "['Robin Williams - Dead Poets Society - Ethan Hawke - Taking Lives - Angelina Jolie',\n",
              " 'Robin Williams - Awakenings - Robert De Niro - Shark Tale - Angelina Jolie',\n",
              " 'Robin Williams - Awakenings - Robert De Niro - The Good Shepherd - Angelina Jolie',\n",
              " 'Robin Williams - Good Will Hunting - Matt Damon - The Good Shepherd - Angelina Jolie',\n",
              " 'Robin Williams - Hook - Dustin Hoffman - Kung Fu Panda - Angelina Jolie',\n",
              " 'Robin Williams - Hook - Dustin Hoffman - Kung Fu Panda 2 - Angelina Jolie',\n",
              " 'Robin Williams - Hook - Dustin Hoffman - Kung Fu Panda 3 - Angelina Jolie',\n",
              " 'Robin Williams - Toys - Robin Wright - Beowulf - Angelina Jolie',\n",
              " 'Robin Williams - Happy Feet - Brittany Murphy - Girl, Interrupted - Angelina Jolie',\n",
              " 'Robin Williams - House of D - David Duchovny - Playing God - Angelina Jolie',\n",
              " 'Robin Williams - The Big White - Giovanni Ribisi - Gone in 60 Seconds - Angelina Jolie',\n",
              " 'Robin Williams - The Big White - Giovanni Ribisi - Sky Captain and the World of Tomorrow - Angelina Jolie']"
            ]
          },
          "execution_count": 15,
          "metadata": {},
          "output_type": "execute_result"
        }
      ],
      "source": [
        "# These are all the shortest paths between Robin Williams (nm0000245) and Angelina Jolie (nm0001401)\n",
        "paths('Robin Williams', 'Angelina Jolie')"
      ]
    },
    {
      "cell_type": "markdown",
      "metadata": {
        "id": "cd9dycSL4e72"
      },
      "source": [
        "# Let's explore the network"
      ]
    },
    {
      "cell_type": "code",
      "execution_count": 21,
      "metadata": {
        "colab": {
          "base_uri": "https://localhost:8080/"
        },
        "id": "fV6XfQJArROM",
        "outputId": "ff6bfe19-e31a-4165-87da-cd51c4c1ebe1"
      },
      "outputs": [
        {
          "data": {
            "text/plain": [
              "['Shahab Hosseini - Darbareye Elly - Golshifteh Farahani - The Song of Scorpions - Irrfan Khan - A Mighty Heart - Angelina Jolie',\n",
              " 'Shahab Hosseini - A Separation - Payman Maadi - Last Knights - Clive Owen - Beyond Borders - Angelina Jolie',\n",
              " 'Shahab Hosseini - A Separation - Payman Maadi - Last Knights - Morgan Freeman - Wanted - Angelina Jolie',\n",
              " 'Shahab Hosseini - The Salesman - Babak Karimi - Zeros and Ones - Ethan Hawke - Taking Lives - Angelina Jolie']"
            ]
          },
          "execution_count": 21,
          "metadata": {},
          "output_type": "execute_result"
        }
      ],
      "source": [
        "# Shahab Hosseini is a famous Iranian actor. How does he connect with Angelina Jolie?\n",
        "paths('Shahab Hosseini', 'Angelina Jolie')"
      ]
    },
    {
      "cell_type": "code",
      "execution_count": 22,
      "metadata": {
        "colab": {
          "base_uri": "https://localhost:8080/"
        },
        "id": "qF5gG2op5RGf",
        "outputId": "c6cb5174-3bab-4103-f949-dc92afd88714"
      },
      "outputs": [
        {
          "data": {
            "text/plain": [
              "['Robin Williams - Hook - Dustin Hoffman - Kung Fu Panda 2 - Jackie Chan',\n",
              " 'Robin Williams - What Dreams May Come - Max von Sydow - Rush Hour 3 - Jackie Chan',\n",
              " 'Robin Williams - Night at the Museum: Secret of the Tomb - Owen Wilson - Shanghai Noon - Jackie Chan',\n",
              " 'Robin Williams - Night at the Museum: Secret of the Tomb - Owen Wilson - Shanghai Knights - Jackie Chan']"
            ]
          },
          "execution_count": 22,
          "metadata": {},
          "output_type": "execute_result"
        }
      ],
      "source": [
        "# Robin Williams and Jackie Chan are both prolific comedians. Whom have they acted with?\n",
        "paths('Robin Williams', 'Jackie Chan')"
      ]
    },
    {
      "cell_type": "code",
      "execution_count": 23,
      "metadata": {
        "colab": {
          "base_uri": "https://localhost:8080/"
        },
        "id": "ZfXjcxfgHf5i",
        "outputId": "04b12679-c677-4ad5-a80d-38c828b2ffb6"
      },
      "outputs": [
        {
          "data": {
            "text/plain": [
              "['Rajinikanth - Kabali - Winston Chao - 1911 - Jackie Chan']"
            ]
          },
          "execution_count": 23,
          "metadata": {},
          "output_type": "execute_result"
        }
      ],
      "source": [
        "# Rajinikanth and Jackie Chan are among Asia's highest paid actors. How are they connected?\n",
        "paths('Rajinikanth', 'Jackie Chan')"
      ]
    },
    {
      "cell_type": "code",
      "execution_count": 24,
      "metadata": {
        "colab": {
          "base_uri": "https://localhost:8080/"
        },
        "id": "MZrkGvsG6DZH",
        "outputId": "b0dfe7a8-8032-4a7e-bce0-b0623dbd73a0"
      },
      "outputs": [
        {
          "data": {
            "text/plain": [
              "['Clint Eastwood - Paint Your Wagon - Lee Marvin - Hell in the Pacific - Toshirô Mifune',\n",
              " 'Clint Eastwood - Space Cowboys - James Garner - Grand Prix - Toshirô Mifune']"
            ]
          },
          "execution_count": 24,
          "metadata": {},
          "output_type": "execute_result"
        }
      ],
      "source": [
        "# Clint Eastwood began his career playing Toshirô Mifune's roles. How are they connected?\n",
        "paths('Clint Eastwood', 'Toshirô Mifune')"
      ]
    },
    {
      "cell_type": "code",
      "execution_count": 25,
      "metadata": {
        "colab": {
          "base_uri": "https://localhost:8080/"
        },
        "id": "kLCOdvCGkC3P",
        "outputId": "6ccbf336-a947-47d4-c0a9-374f89c1975f"
      },
      "outputs": [
        {
          "data": {
            "text/plain": [
              "['Kevin Bacon - The Air I Breathe - Brendan Fraser - Line of Descent - Abhay Deol - Hero - Sivakarthikeyan']"
            ]
          },
          "execution_count": 25,
          "metadata": {},
          "output_type": "execute_result"
        }
      ],
      "source": [
        "# Kevin Bacon is extremely well connected. How can he reach the South Indian Sivakarthikeyan?\n",
        "paths('Kevin Bacon', 'Sivakarthikeyan')"
      ]
    },
    {
      "cell_type": "code",
      "execution_count": 26,
      "metadata": {
        "colab": {
          "base_uri": "https://localhost:8080/"
        },
        "id": "v5R2wI8ZLWO0",
        "outputId": "f803dd54-9dc4-412e-e584-5554db820f5b"
      },
      "outputs": [
        {
          "data": {
            "text/plain": [
              "['Ashish Vidyarthi - Benaam - Mithun Chakraborty - CC2C - Chia-Hui Liu - Shaolin Warrior - Lung Chan - Crazy Safari - N!xau',\n",
              " \"Ashish Vidyarthi - 12 O'Clock - Mithun Chakraborty - CC2C - Chia-Hui Liu - Shaolin Warrior - Lung Chan - Crazy Safari - N!xau\",\n",
              " 'Ashish Vidyarthi - Jole Jongole - Mithun Chakraborty - CC2C - Chia-Hui Liu - Shaolin Warrior - Lung Chan - Crazy Safari - N!xau',\n",
              " 'Ashish Vidyarthi - Zindagi Khoobsoorat Hai - Rajit Kapoor - The Making of the Mahatma - Paul Slabolepszy - Saturday Night at the Palace - Marius Weyers - The Gods Must Be Crazy - N!xau',\n",
              " 'Ashish Vidyarthi - Colours of Passion - Nandana Sen - Bokshu the Myth - Steven Berkoff - Charlie - Marius Weyers - The Gods Must Be Crazy - N!xau',\n",
              " 'Ashish Vidyarthi - Agnee 2 - Amit Hasan - Nayok - Md Rafsan Jamil - Deep Bay of Bengal - Kent Cheng - The Gods Must Be Funny in China - N!xau',\n",
              " 'Ashish Vidyarthi - Rokto - Amit Hasan - Nayok - Md Rafsan Jamil - Deep Bay of Bengal - Kent Cheng - The Gods Must Be Funny in China - N!xau']"
            ]
          },
          "execution_count": 26,
          "metadata": {},
          "output_type": "execute_result"
        }
      ],
      "source": [
        "# Do you remember N!xau from The Gods Must Be Crazy? Could be connected with one of India's most cross-cultural actors, Ashish Vidyarthi?\n",
        "paths('Ashish Vidyarthi', 'N!xau')"
      ]
    },
    {
      "cell_type": "code",
      "execution_count": 28,
      "metadata": {
        "colab": {
          "base_uri": "https://localhost:8080/"
        },
        "id": "rSzTh_LTLuxV",
        "outputId": "49b16004-e28b-4130-badd-81a706600f61"
      },
      "outputs": [
        {
          "data": {
            "text/plain": [
              "['Gandhimathi - Pathinaru Vayathinile - Kamal Haasan - Ladies Only - Seema Biswas - Cooking with Stella - Don McKellar - Meditation Park - Pei-Pei Cheng - The Gods Must Be Funny in China - N!xau',\n",
              " 'Gandhimathi - Naan Avanillai - Kamal Haasan - Ladies Only - Seema Biswas - Cooking with Stella - Don McKellar - Meditation Park - Pei-Pei Cheng - The Gods Must Be Funny in China - N!xau',\n",
              " 'Gandhimathi - Melnattu Marumagal - Kamal Haasan - Ladies Only - Seema Biswas - Cooking with Stella - Don McKellar - Meditation Park - Pei-Pei Cheng - The Gods Must Be Funny in China - N!xau',\n",
              " 'Gandhimathi - Sattam En Kaiyil - Kamal Haasan - Ladies Only - Seema Biswas - Cooking with Stella - Don McKellar - Meditation Park - Pei-Pei Cheng - The Gods Must Be Funny in China - N!xau',\n",
              " 'Gandhimathi - Unnai Sutrum Ulagam - Kamal Haasan - Ladies Only - Seema Biswas - Cooking with Stella - Don McKellar - Meditation Park - Pei-Pei Cheng - The Gods Must Be Funny in China - N!xau']"
            ]
          },
          "execution_count": 28,
          "metadata": {},
          "output_type": "execute_result"
        }
      ],
      "source": [
        "# How is N!xau connected with one of South India's most insular actresses, Gandhimathi?\n",
        "paths('Gandhimathi', 'N!xau')[:5]"
      ]
    },
    {
      "cell_type": "code",
      "execution_count": 29,
      "metadata": {
        "colab": {
          "base_uri": "https://localhost:8080/",
          "height": 345
        },
        "id": "rqeZtOWQMNKz",
        "outputId": "57de11c0-a932-4ece-828f-9f9cee84f1bf"
      },
      "outputs": [
        {
          "ename": "IndexError",
          "evalue": "index 0 is out of bounds for axis 0 with size 0",
          "output_type": "error",
          "traceback": [
            "\u001b[1;31m---------------------------------------------------------------------------\u001b[0m",
            "\u001b[1;31mIndexError\u001b[0m                                Traceback (most recent call last)",
            "\u001b[1;32m~\\AppData\\Local\\Temp\\ipykernel_22680\\2596598433.py\u001b[0m in \u001b[0;36m<module>\u001b[1;34m\u001b[0m\n\u001b[0;32m      7\u001b[0m \u001b[1;31m# An extended list is available from https://contribute.imdb.com/dataset\u001b[0m\u001b[1;33m\u001b[0m\u001b[1;33m\u001b[0m\u001b[1;33m\u001b[0m\u001b[0m\n\u001b[0;32m      8\u001b[0m \u001b[1;31m# But only to people with 1000+ contributions in the last 360 days: https://community-imdb.sprinklr.com/conversations/data-issues-policy-discussions/imdb-data-now-easily-available-to-contributors/5f4a7a0d8815453dba963bbc\u001b[0m\u001b[1;33m\u001b[0m\u001b[1;33m\u001b[0m\u001b[1;33m\u001b[0m\u001b[0m\n\u001b[1;32m----> 9\u001b[1;33m \u001b[0mpaths\u001b[0m\u001b[1;33m(\u001b[0m\u001b[1;34m'Asad Dadarkar'\u001b[0m\u001b[1;33m,\u001b[0m \u001b[1;34m'N!xau'\u001b[0m\u001b[1;33m)\u001b[0m\u001b[1;33m\u001b[0m\u001b[1;33m\u001b[0m\u001b[0m\n\u001b[0m",
            "\u001b[1;32m~\\AppData\\Local\\Temp\\ipykernel_22680\\968620335.py\u001b[0m in \u001b[0;36mpaths\u001b[1;34m(source, target)\u001b[0m\n\u001b[0;32m      1\u001b[0m \u001b[1;31m# There many be multiple paths between them. Let's list them all\u001b[0m\u001b[1;33m\u001b[0m\u001b[1;33m\u001b[0m\u001b[1;33m\u001b[0m\u001b[0m\n\u001b[0;32m      2\u001b[0m \u001b[1;32mdef\u001b[0m \u001b[0mpaths\u001b[0m\u001b[1;33m(\u001b[0m\u001b[0msource\u001b[0m\u001b[1;33m,\u001b[0m \u001b[0mtarget\u001b[0m\u001b[1;33m)\u001b[0m\u001b[1;33m:\u001b[0m\u001b[1;33m\u001b[0m\u001b[1;33m\u001b[0m\u001b[0m\n\u001b[1;32m----> 3\u001b[1;33m     \u001b[0msource\u001b[0m \u001b[1;33m=\u001b[0m \u001b[0mname\u001b[0m\u001b[1;33m[\u001b[0m\u001b[0mname\u001b[0m\u001b[1;33m[\u001b[0m\u001b[1;34m'primaryName'\u001b[0m\u001b[1;33m]\u001b[0m \u001b[1;33m==\u001b[0m \u001b[0msource\u001b[0m\u001b[1;33m]\u001b[0m\u001b[1;33m.\u001b[0m\u001b[0mindex\u001b[0m\u001b[1;33m[\u001b[0m\u001b[1;36m0\u001b[0m\u001b[1;33m]\u001b[0m\u001b[1;33m\u001b[0m\u001b[1;33m\u001b[0m\u001b[0m\n\u001b[0m\u001b[0;32m      4\u001b[0m     \u001b[0mtarget\u001b[0m \u001b[1;33m=\u001b[0m \u001b[0mname\u001b[0m\u001b[1;33m[\u001b[0m\u001b[0mname\u001b[0m\u001b[1;33m[\u001b[0m\u001b[1;34m'primaryName'\u001b[0m\u001b[1;33m]\u001b[0m \u001b[1;33m==\u001b[0m \u001b[0mtarget\u001b[0m\u001b[1;33m]\u001b[0m\u001b[1;33m.\u001b[0m\u001b[0mindex\u001b[0m\u001b[1;33m[\u001b[0m\u001b[1;36m0\u001b[0m\u001b[1;33m]\u001b[0m\u001b[1;33m\u001b[0m\u001b[1;33m\u001b[0m\u001b[0m\n\u001b[0;32m      5\u001b[0m     \u001b[1;32mreturn\u001b[0m \u001b[1;33m[\u001b[0m\u001b[0mnames\u001b[0m\u001b[1;33m(\u001b[0m\u001b[0mp\u001b[0m\u001b[1;33m)\u001b[0m \u001b[1;32mfor\u001b[0m \u001b[0mp\u001b[0m \u001b[1;32min\u001b[0m \u001b[0mnx\u001b[0m\u001b[1;33m.\u001b[0m\u001b[0mall_shortest_paths\u001b[0m\u001b[1;33m(\u001b[0m\u001b[0mG\u001b[0m\u001b[1;33m,\u001b[0m \u001b[0msource\u001b[0m\u001b[1;33m,\u001b[0m \u001b[0mtarget\u001b[0m\u001b[1;33m)\u001b[0m\u001b[1;33m]\u001b[0m\u001b[1;33m\u001b[0m\u001b[1;33m\u001b[0m\u001b[0m\n",
            "\u001b[1;32mc:\\Users\\Anand S\\.conda\\envs\\gramex\\lib\\site-packages\\pandas\\core\\indexes\\base.py\u001b[0m in \u001b[0;36m__getitem__\u001b[1;34m(self, key)\u001b[0m\n\u001b[0;32m   4602\u001b[0m         \u001b[1;32mif\u001b[0m \u001b[0mis_scalar\u001b[0m\u001b[1;33m(\u001b[0m\u001b[0mkey\u001b[0m\u001b[1;33m)\u001b[0m\u001b[1;33m:\u001b[0m\u001b[1;33m\u001b[0m\u001b[1;33m\u001b[0m\u001b[0m\n\u001b[0;32m   4603\u001b[0m             \u001b[0mkey\u001b[0m \u001b[1;33m=\u001b[0m \u001b[0mcom\u001b[0m\u001b[1;33m.\u001b[0m\u001b[0mcast_scalar_indexer\u001b[0m\u001b[1;33m(\u001b[0m\u001b[0mkey\u001b[0m\u001b[1;33m,\u001b[0m \u001b[0mwarn_float\u001b[0m\u001b[1;33m=\u001b[0m\u001b[1;32mTrue\u001b[0m\u001b[1;33m)\u001b[0m\u001b[1;33m\u001b[0m\u001b[1;33m\u001b[0m\u001b[0m\n\u001b[1;32m-> 4604\u001b[1;33m             \u001b[1;32mreturn\u001b[0m \u001b[0mgetitem\u001b[0m\u001b[1;33m(\u001b[0m\u001b[0mkey\u001b[0m\u001b[1;33m)\u001b[0m\u001b[1;33m\u001b[0m\u001b[1;33m\u001b[0m\u001b[0m\n\u001b[0m\u001b[0;32m   4605\u001b[0m \u001b[1;33m\u001b[0m\u001b[0m\n\u001b[0;32m   4606\u001b[0m         \u001b[1;32mif\u001b[0m \u001b[0misinstance\u001b[0m\u001b[1;33m(\u001b[0m\u001b[0mkey\u001b[0m\u001b[1;33m,\u001b[0m \u001b[0mslice\u001b[0m\u001b[1;33m)\u001b[0m\u001b[1;33m:\u001b[0m\u001b[1;33m\u001b[0m\u001b[1;33m\u001b[0m\u001b[0m\n",
            "\u001b[1;31mIndexError\u001b[0m: index 0 is out of bounds for axis 0 with size 0"
          ]
        }
      ],
      "source": [
        "# Can we find 2 people that are NOT connected on this network?\n",
        "\n",
        "# So far, no. We thought we had a promising start with Asad Dadarkar and N!xau.\n",
        "# But that's not true.\n",
        "# Asad Dadarkar acted in Dil Chatha Hai: https://www.imdb.com/title/tt0292490/\n",
        "# But his name is not in title.principals.tsv.gz, since it's a list of primary cast, not a complete list.\n",
        "# An extended list is available from https://contribute.imdb.com/dataset\n",
        "# But only to people with 1000+ contributions in the last 360 days: https://community-imdb.sprinklr.com/conversations/data-issues-policy-discussions/imdb-data-now-easily-available-to-contributors/5f4a7a0d8815453dba963bbc\n",
        "paths('Asad Dadarkar', 'N!xau')"
      ]
    },
    {
      "cell_type": "markdown",
      "metadata": {
        "id": "HJZ5onqjNG1A"
      },
      "source": [
        "# Story ideas\n",
        "\n",
        "In discussion with Srinivasan Ramani, The Hindu\n",
        "\n",
        "- Who is the Kevin Bacon of Bollywood?\n",
        "- \"MGR never allowed Jayalalitha to act with others for a while until they broke up.\" Prove or disprove.\n",
        "- Senthil needed to pair up with Goundamani in the latter years to get an acting chance.\n",
        "- No one acts with Prashanth after his Malaysian visit. Or Vadivelu after his Vijayakanth visit.\n",
        "- Arjun was a top star in Tamil. Then he had a bad patch -- where he took refuge in Kannada. Then he moved back.\n",
        "- Vadivelu may have been a highlight connected actor earlier, but fell over time\n",
        "- What about the Venkat Prabhu cluster?\n",
        "\n",
        "Suggestions\n",
        "\n",
        "- Build a tool for laymen to use\n",
        "- Allow annotations & story forms for users to create their stories\n",
        "- Allow embedding -- of visual and of story"
      ]
    }
  ],
  "metadata": {
    "colab": {
      "collapsed_sections": [],
      "name": "shortest-path.ipynb",
      "provenance": []
    },
    "kernelspec": {
      "display_name": "Python 3.7.13 ('gramex')",
      "language": "python",
      "name": "python3"
    },
    "language_info": {
      "codemirror_mode": {
        "name": "ipython",
        "version": 3
      },
      "file_extension": ".py",
      "mimetype": "text/x-python",
      "name": "python",
      "nbconvert_exporter": "python",
      "pygments_lexer": "ipython3",
      "version": "3.7.13"
    },
    "vscode": {
      "interpreter": {
        "hash": "daa87633520c8bb6eb35d120e822a31597afc0fa382f1cbded86f3ad75a30644"
      }
    }
  },
  "nbformat": 4,
  "nbformat_minor": 0
}
